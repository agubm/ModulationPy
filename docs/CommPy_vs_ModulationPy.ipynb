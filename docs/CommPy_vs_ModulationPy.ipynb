{
 "cells": [
  {
   "cell_type": "code",
   "execution_count": 3,
   "metadata": {
    "colab": {},
    "colab_type": "code",
    "id": "ZZc-hhpItgMH"
   },
   "outputs": [],
   "source": [
    "import numpy as np\n",
    "import commpy.modulation as commpy_modulation\n",
    "from ModulationPy import PSKModem, QAMModem"
   ]
  },
  {
   "cell_type": "code",
   "execution_count": 4,
   "metadata": {
    "colab": {},
    "colab_type": "code",
    "id": "y77TcvujtgML"
   },
   "outputs": [],
   "source": [
    "msg = np.random.randint(0, 2, int(1e4))"
   ]
  },
  {
   "cell_type": "markdown",
   "metadata": {
    "colab_type": "text",
    "id": "FjrlnawKtgMO"
   },
   "source": [
    "## ModulationPy"
   ]
  },
  {
   "cell_type": "code",
   "execution_count": 5,
   "metadata": {
    "colab": {},
    "colab_type": "code",
    "id": "SQ0OoxBgtgMP"
   },
   "outputs": [],
   "source": [
    "modem = PSKModem(4) # our class initialization\n",
    "m = modem.modulate(msg)"
   ]
  },
  {
   "cell_type": "code",
   "execution_count": 6,
   "metadata": {
    "colab": {
     "base_uri": "https://localhost:8080/",
     "height": 34
    },
    "colab_type": "code",
    "id": "XC4av2DXtgMT",
    "outputId": "3b6ecef5-fb6e-4ef6-d8c0-cfe117ab4477"
   },
   "outputs": [
    {
     "name": "stdout",
     "output_type": "stream",
     "text": [
      "10.3 ms ± 347 µs per loop (mean ± std. dev. of 7 runs, 100 loops each)\n"
     ]
    }
   ],
   "source": [
    "%%timeit\n",
    "m = modem.modulate(msg)"
   ]
  },
  {
   "cell_type": "code",
   "execution_count": 7,
   "metadata": {
    "colab": {
     "base_uri": "https://localhost:8080/",
     "height": 34
    },
    "colab_type": "code",
    "id": "3ukIC8DStgMW",
    "outputId": "079e7758-52be-4bc6-95d1-fe246c880a18"
   },
   "outputs": [
    {
     "name": "stdout",
     "output_type": "stream",
     "text": [
      "398 µs ± 41.7 µs per loop (mean ± std. dev. of 7 runs, 1000 loops each)\n"
     ]
    }
   ],
   "source": [
    "%%timeit\n",
    "modem.demodulate(m) # demodulation # demodulation"
   ]
  },
  {
   "cell_type": "code",
   "execution_count": 8,
   "metadata": {},
   "outputs": [],
   "source": [
    "modem = QAMModem(256) # our class initialization\n",
    "m = modem.modulate(msg)"
   ]
  },
  {
   "cell_type": "code",
   "execution_count": 9,
   "metadata": {},
   "outputs": [
    {
     "name": "stdout",
     "output_type": "stream",
     "text": [
      "8.86 ms ± 125 µs per loop (mean ± std. dev. of 7 runs, 100 loops each)\n"
     ]
    }
   ],
   "source": [
    "%%timeit\n",
    "m = modem.modulate(msg)"
   ]
  },
  {
   "cell_type": "code",
   "execution_count": 10,
   "metadata": {},
   "outputs": [
    {
     "name": "stdout",
     "output_type": "stream",
     "text": [
      "42.6 ms ± 4.66 ms per loop (mean ± std. dev. of 7 runs, 10 loops each)\n"
     ]
    }
   ],
   "source": [
    "%%timeit\n",
    "modem.demodulate(m) # demodulation # demodulation"
   ]
  },
  {
   "cell_type": "markdown",
   "metadata": {
    "colab_type": "text",
    "id": "zLQNPPjatgMZ"
   },
   "source": [
    "## CommPy"
   ]
  },
  {
   "cell_type": "code",
   "execution_count": 11,
   "metadata": {
    "colab": {},
    "colab_type": "code",
    "id": "qxnSclywtgMZ"
   },
   "outputs": [],
   "source": [
    "modem = commpy_modulation.PSKModem(4)\n",
    "m = modem.modulate(msg) "
   ]
  },
  {
   "cell_type": "code",
   "execution_count": 12,
   "metadata": {
    "colab": {
     "base_uri": "https://localhost:8080/",
     "height": 34
    },
    "colab_type": "code",
    "id": "wtTOnlX5tgMd",
    "outputId": "c7d610c6-eaa8-4738-a00f-c6faeffd82c0"
   },
   "outputs": [
    {
     "name": "stdout",
     "output_type": "stream",
     "text": [
      "15.7 ms ± 851 µs per loop (mean ± std. dev. of 7 runs, 100 loops each)\n"
     ]
    }
   ],
   "source": [
    "%%timeit\n",
    "m = modem.modulate(msg) "
   ]
  },
  {
   "cell_type": "code",
   "execution_count": 13,
   "metadata": {
    "colab": {
     "base_uri": "https://localhost:8080/",
     "height": 170
    },
    "colab_type": "code",
    "id": "NfhCU81EtgMi",
    "outputId": "0b970e72-9e62-445a-ec7c-1ab2a3aa7187"
   },
   "outputs": [
    {
     "name": "stderr",
     "output_type": "stream",
     "text": [
      "/Users/vladimir/opt/anaconda3/lib/python3.7/site-packages/commpy/modulation.py:130: RuntimeWarning: divide by zero encountered in double_scalars\n",
      "  llr_den += exp((-abs(current_symbol - symbol) ** 2) / noise_var)\n",
      "/Users/vladimir/opt/anaconda3/lib/python3.7/site-packages/commpy/modulation.py:128: RuntimeWarning: divide by zero encountered in double_scalars\n",
      "  llr_num += exp((-abs(current_symbol - symbol) ** 2) / noise_var)\n",
      "/Users/vladimir/opt/anaconda3/lib/python3.7/site-packages/commpy/modulation.py:128: RuntimeWarning: invalid value encountered in double_scalars\n",
      "  llr_num += exp((-abs(current_symbol - symbol) ** 2) / noise_var)\n",
      "/Users/vladimir/opt/anaconda3/lib/python3.7/site-packages/commpy/modulation.py:130: RuntimeWarning: invalid value encountered in double_scalars\n",
      "  llr_den += exp((-abs(current_symbol - symbol) ** 2) / noise_var)\n"
     ]
    },
    {
     "name": "stdout",
     "output_type": "stream",
     "text": [
      "319 ms ± 9.18 ms per loop (mean ± std. dev. of 7 runs, 1 loop each)\n"
     ]
    }
   ],
   "source": [
    "%%timeit\n",
    "modem.demodulate(m, demod_type='soft')"
   ]
  },
  {
   "cell_type": "code",
   "execution_count": 14,
   "metadata": {},
   "outputs": [],
   "source": [
    "modem = commpy_modulation.QAMModem(256)\n",
    "m = modem.modulate(msg) "
   ]
  },
  {
   "cell_type": "code",
   "execution_count": 15,
   "metadata": {},
   "outputs": [
    {
     "name": "stdout",
     "output_type": "stream",
     "text": [
      "11.3 ms ± 1.26 ms per loop (mean ± std. dev. of 7 runs, 100 loops each)\n"
     ]
    }
   ],
   "source": [
    "%%timeit\n",
    "m = modem.modulate(msg) "
   ]
  },
  {
   "cell_type": "code",
   "execution_count": 16,
   "metadata": {},
   "outputs": [
    {
     "name": "stdout",
     "output_type": "stream",
     "text": [
      "22.4 s ± 2.01 s per loop (mean ± std. dev. of 7 runs, 1 loop each)\n"
     ]
    }
   ],
   "source": [
    "%%timeit\n",
    "modem.demodulate(m, demod_type='soft')"
   ]
  }
 ],
 "metadata": {
  "colab": {
   "name": "CommPy-vs-ModulationPy.ipynb",
   "provenance": []
  },
  "kernelspec": {
   "display_name": "Python 3",
   "language": "python",
   "name": "python3"
  },
  "language_info": {
   "codemirror_mode": {
    "name": "ipython",
    "version": 3
   },
   "file_extension": ".py",
   "mimetype": "text/x-python",
   "name": "python",
   "nbconvert_exporter": "python",
   "pygments_lexer": "ipython3",
   "version": "3.7.4"
  }
 },
 "nbformat": 4,
 "nbformat_minor": 1
}
