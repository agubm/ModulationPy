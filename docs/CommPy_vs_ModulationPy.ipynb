{
  "nbformat": 4,
  "nbformat_minor": 0,
  "metadata": {
    "kernelspec": {
      "display_name": "Python 3",
      "language": "python",
      "name": "python3"
    },
    "language_info": {
      "codemirror_mode": {
        "name": "ipython",
        "version": 3
      },
      "file_extension": ".py",
      "mimetype": "text/x-python",
      "name": "python",
      "nbconvert_exporter": "python",
      "pygments_lexer": "ipython3",
      "version": "3.7.4"
    },
    "colab": {
      "name": "CommPy-vs-ModulationPy.ipynb",
      "provenance": []
    }
  },
  "cells": [
    {
      "cell_type": "code",
      "metadata": {
        "id": "OjpAvodBtgMB",
        "colab_type": "code",
        "colab": {}
      },
      "source": [
        "#!pip install scikit-commpy\n",
        "#!pip install ModulationPy"
      ],
      "execution_count": 0,
      "outputs": []
    },
    {
      "cell_type": "code",
      "metadata": {
        "id": "ZZc-hhpItgMH",
        "colab_type": "code",
        "colab": {}
      },
      "source": [
        "import numpy as np\n",
        "import commpy.modulation as commpy_modulation\n",
        "from ModulationPy import PSKModem\n"
      ],
      "execution_count": 0,
      "outputs": []
    },
    {
      "cell_type": "code",
      "metadata": {
        "id": "y77TcvujtgML",
        "colab_type": "code",
        "colab": {}
      },
      "source": [
        "msg = np.random.randint(0, 2, int(1e4))"
      ],
      "execution_count": 0,
      "outputs": []
    },
    {
      "cell_type": "markdown",
      "metadata": {
        "id": "FjrlnawKtgMO",
        "colab_type": "text"
      },
      "source": [
        "## ModulationPy"
      ]
    },
    {
      "cell_type": "code",
      "metadata": {
        "id": "SQ0OoxBgtgMP",
        "colab_type": "code",
        "colab": {}
      },
      "source": [
        "modem = PSKModem(4) # our class initialization\n",
        "m = modem.modulate(msg)"
      ],
      "execution_count": 0,
      "outputs": []
    },
    {
      "cell_type": "code",
      "metadata": {
        "id": "XC4av2DXtgMT",
        "colab_type": "code",
        "colab": {
          "base_uri": "https://localhost:8080/",
          "height": 34
        },
        "outputId": "3b6ecef5-fb6e-4ef6-d8c0-cfe117ab4477"
      },
      "source": [
        "%%timeit\n",
        "m = modem.modulate(msg)"
      ],
      "execution_count": 5,
      "outputs": [
        {
          "output_type": "stream",
          "text": [
            "100 loops, best of 3: 12.9 ms per loop\n"
          ],
          "name": "stdout"
        }
      ]
    },
    {
      "cell_type": "code",
      "metadata": {
        "id": "3ukIC8DStgMW",
        "colab_type": "code",
        "colab": {
          "base_uri": "https://localhost:8080/",
          "height": 34
        },
        "outputId": "079e7758-52be-4bc6-95d1-fe246c880a18"
      },
      "source": [
        "%%timeit\n",
        "modem.demodulate(m) # demodulation # demodulation"
      ],
      "execution_count": 6,
      "outputs": [
        {
          "output_type": "stream",
          "text": [
            "100 loops, best of 3: 6.93 ms per loop\n"
          ],
          "name": "stdout"
        }
      ]
    },
    {
      "cell_type": "markdown",
      "metadata": {
        "id": "zLQNPPjatgMZ",
        "colab_type": "text"
      },
      "source": [
        "## CommPy"
      ]
    },
    {
      "cell_type": "code",
      "metadata": {
        "id": "qxnSclywtgMZ",
        "colab_type": "code",
        "colab": {}
      },
      "source": [
        "modem = commpy_modulation.PSKModem(4)\n",
        "m = modem.modulate(msg) "
      ],
      "execution_count": 0,
      "outputs": []
    },
    {
      "cell_type": "code",
      "metadata": {
        "id": "wtTOnlX5tgMd",
        "colab_type": "code",
        "colab": {
          "base_uri": "https://localhost:8080/",
          "height": 34
        },
        "outputId": "c7d610c6-eaa8-4738-a00f-c6faeffd82c0"
      },
      "source": [
        "%%timeit\n",
        "m = modem.modulate(msg) "
      ],
      "execution_count": 8,
      "outputs": [
        {
          "output_type": "stream",
          "text": [
            "100 loops, best of 3: 12.5 ms per loop\n"
          ],
          "name": "stdout"
        }
      ]
    },
    {
      "cell_type": "code",
      "metadata": {
        "id": "NfhCU81EtgMi",
        "colab_type": "code",
        "colab": {
          "base_uri": "https://localhost:8080/",
          "height": 170
        },
        "outputId": "0b970e72-9e62-445a-ec7c-1ab2a3aa7187"
      },
      "source": [
        "%%timeit\n",
        "modem.demodulate(m, demod_type='soft')"
      ],
      "execution_count": 10,
      "outputs": [
        {
          "output_type": "stream",
          "text": [
            "/usr/local/lib/python3.6/dist-packages/commpy/modulation.py:97: RuntimeWarning: divide by zero encountered in double_scalars\n",
            "  (-abs(current_symbol - self.constellation[const_index]) ** 2) / noise_var)\n",
            "/usr/local/lib/python3.6/dist-packages/commpy/modulation.py:94: RuntimeWarning: divide by zero encountered in double_scalars\n",
            "  (-abs(current_symbol - self.constellation[const_index]) ** 2) / noise_var)\n",
            "/usr/local/lib/python3.6/dist-packages/commpy/modulation.py:97: RuntimeWarning: invalid value encountered in double_scalars\n",
            "  (-abs(current_symbol - self.constellation[const_index]) ** 2) / noise_var)\n",
            "/usr/local/lib/python3.6/dist-packages/commpy/modulation.py:94: RuntimeWarning: invalid value encountered in double_scalars\n",
            "  (-abs(current_symbol - self.constellation[const_index]) ** 2) / noise_var)\n"
          ],
          "name": "stderr"
        },
        {
          "output_type": "stream",
          "text": [
            "1 loop, best of 3: 233 ms per loop\n"
          ],
          "name": "stdout"
        }
      ]
    },
    {
      "cell_type": "code",
      "metadata": {
        "id": "q5qFT7GotlxX",
        "colab_type": "code",
        "colab": {}
      },
      "source": [
        ""
      ],
      "execution_count": 0,
      "outputs": []
    }
  ]
}