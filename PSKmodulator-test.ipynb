{
 "cells": [
  {
   "cell_type": "code",
   "execution_count": 1,
   "metadata": {},
   "outputs": [],
   "source": [
    "import numpy as np\n",
    "import sys\n",
    "from IPython.display import Image"
   ]
  },
  {
   "cell_type": "code",
   "execution_count": 2,
   "metadata": {},
   "outputs": [],
   "source": [
    "def GRAYencoder(x):\n",
    "\tfor idx in range(len(x)):\n",
    "\t\tif idx == 0:\n",
    "\t\t\ty = x[idx]\n",
    "\t\telse:\n",
    "\t\t\ty = y + str ( int( x[idx] ) ^ int( x[idx-1] ) )\n",
    "\treturn y"
   ]
  },
  {
   "cell_type": "code",
   "execution_count": 3,
   "metadata": {},
   "outputs": [],
   "source": [
    "def PSKmodulator(modulation_order, phase_shift = np.pi/4, symbol_mapping = 'Gray', input_type = 'Binary'):\n",
    "    s = [0+i for i in range(modulation_order)]\n",
    "    m = list(np.exp(1j*phase_shift + 1j*2*np.pi*np.array(s)/modulation_order))\n",
    "    dict_out = {}\n",
    "    if input_type != 'Binary' and input_type != 'Decimal':\n",
    "        print(\"Wrong input data type (should be 'Decimal' or 'Binary'). Now input_type = \" + str(input_type))\n",
    "        sys.exit(0) \n",
    "    elif input_type == 'Decimal':\n",
    "        if symbol_mapping != 'Binary' and symbol_mapping != 'Gray':\n",
    "            print(\"Wrong mapping rule (should be 'Gray' or 'Binary'). Now symbol_mapping = \" + str(symbol_mapping))\n",
    "            sys.exit(0)\n",
    "        elif symbol_mapping == 'Gray':\n",
    "            s2 = []\n",
    "            for i in s:\n",
    "                symbol = bin(i)[2:]\n",
    "                if len(symbol) < np.log2(modulation_order):\n",
    "                    symbol = int( (np.log2(modulation_order) - len(symbol)) )*'0'+symbol\n",
    "                s2.append( int(GRAYencoder(symbol), 2 ) )\n",
    "            s = s2\n",
    "    elif input_type == 'Binary':\n",
    "        if symbol_mapping == 'Binary':\n",
    "            b = []\n",
    "            for i in s:\n",
    "                a = bin(i)[2:]\n",
    "                if len(a) < np.log2(modulation_order):\n",
    "                    a = int((np.log2(modulation_order) - len(a)))*'0'+a\n",
    "                if np.log2(modulation_order)%2 == 0:\n",
    "                    a = a[::-1]\n",
    "                b.append(a)\n",
    "            s = b\n",
    "        elif symbol_mapping == 'Gray':\n",
    "            s2 = []\n",
    "            for i in s:\n",
    "                symbol = bin(i)[2:]\n",
    "                if len(symbol) < np.log2(modulation_order):\n",
    "                    symbol = int( (np.log2(modulation_order) - len(symbol)) )*'0'+symbol\n",
    "                s2.append(GRAYencoder(symbol))\n",
    "            s = []\n",
    "            for i in s2:\n",
    "                if np.log2(modulation_order)%2 == 0:\n",
    "                    i = i[::-1]\n",
    "                s.append(i)\n",
    "        else:\n",
    "            print(\"Wrong mapping rule (should be 'Gray' or 'Binary'). Now input_type = \" + str(symbol_mapping))\n",
    "            sys.exit(0)\n",
    "    for x, y in zip(s, m):\n",
    "        dict_out[x] = y\n",
    "    return dict_out"
   ]
  },
  {
   "cell_type": "markdown",
   "metadata": {},
   "source": [
    "## Binary input"
   ]
  },
  {
   "cell_type": "code",
   "execution_count": 4,
   "metadata": {},
   "outputs": [
    {
     "data": {
      "text/plain": [
       "{'00': (0.7071067811865476+0.7071067811865476j),\n",
       " '01': (0.7071067811865474-0.7071067811865477j),\n",
       " '10': (-0.7071067811865475+0.7071067811865476j),\n",
       " '11': (-0.7071067811865477-0.7071067811865475j)}"
      ]
     },
     "execution_count": 4,
     "metadata": {},
     "output_type": "execute_result"
    }
   ],
   "source": [
    "PSKmodulator(4)"
   ]
  },
  {
   "cell_type": "code",
   "execution_count": 5,
   "metadata": {},
   "outputs": [
    {
     "data": {
      "text/plain": [
       "{'00': (0.7071067811865476+0.7071067811865476j),\n",
       " '01': (-0.7071067811865477-0.7071067811865475j),\n",
       " '10': (-0.7071067811865475+0.7071067811865476j),\n",
       " '11': (0.7071067811865474-0.7071067811865477j)}"
      ]
     },
     "execution_count": 5,
     "metadata": {},
     "output_type": "execute_result"
    }
   ],
   "source": [
    "PSKmodulator(4, symbol_mapping = 'Binary')"
   ]
  },
  {
   "cell_type": "code",
   "execution_count": 6,
   "metadata": {},
   "outputs": [
    {
     "data": {
      "text/plain": [
       "{'00': (1+0j),\n",
       " '01': (-1.8369701987210297e-16-1j),\n",
       " '10': (6.123233995736766e-17+1j),\n",
       " '11': (-1+1.2246467991473532e-16j)}"
      ]
     },
     "execution_count": 6,
     "metadata": {},
     "output_type": "execute_result"
    }
   ],
   "source": [
    "PSKmodulator(4, 0)"
   ]
  },
  {
   "cell_type": "markdown",
   "metadata": {},
   "source": [
    "## Decimal input"
   ]
  },
  {
   "cell_type": "code",
   "execution_count": 7,
   "metadata": {},
   "outputs": [
    {
     "data": {
      "text/html": [
       "<img src=\"https://www.mathworks.com/help/comm/ug/qpsk_const_diagram_gray.png\"/>"
      ],
      "text/plain": [
       "<IPython.core.display.Image object>"
      ]
     },
     "execution_count": 7,
     "metadata": {},
     "output_type": "execute_result"
    }
   ],
   "source": [
    "Image(url= \"https://www.mathworks.com/help/comm/ug/qpsk_const_diagram_gray.png\" )"
   ]
  },
  {
   "cell_type": "markdown",
   "metadata": {},
   "source": [
    "(used for verification)"
   ]
  },
  {
   "cell_type": "code",
   "execution_count": 8,
   "metadata": {},
   "outputs": [
    {
     "data": {
      "text/plain": [
       "{0: (0.7071067811865476+0.7071067811865476j),\n",
       " 1: (-0.7071067811865475+0.7071067811865476j),\n",
       " 2: (0.7071067811865474-0.7071067811865477j),\n",
       " 3: (-0.7071067811865477-0.7071067811865475j)}"
      ]
     },
     "execution_count": 8,
     "metadata": {},
     "output_type": "execute_result"
    }
   ],
   "source": [
    "PSKmodulator(4, input_type = 'Decimal')"
   ]
  },
  {
   "cell_type": "code",
   "execution_count": 9,
   "metadata": {},
   "outputs": [
    {
     "data": {
      "text/html": [
       "<img src=\"https://www.mathworks.com/help/comm/ug/qpsk_const_diagram_binary.png\"/>"
      ],
      "text/plain": [
       "<IPython.core.display.Image object>"
      ]
     },
     "execution_count": 9,
     "metadata": {},
     "output_type": "execute_result"
    }
   ],
   "source": [
    "Image(url= \"https://www.mathworks.com/help/comm/ug/qpsk_const_diagram_binary.png\")"
   ]
  },
  {
   "cell_type": "markdown",
   "metadata": {},
   "source": [
    "(used for verification)"
   ]
  },
  {
   "cell_type": "code",
   "execution_count": 10,
   "metadata": {},
   "outputs": [
    {
     "data": {
      "text/plain": [
       "{0: (0.7071067811865476+0.7071067811865476j),\n",
       " 1: (-0.7071067811865475+0.7071067811865476j),\n",
       " 2: (-0.7071067811865477-0.7071067811865475j),\n",
       " 3: (0.7071067811865474-0.7071067811865477j)}"
      ]
     },
     "execution_count": 10,
     "metadata": {},
     "output_type": "execute_result"
    }
   ],
   "source": [
    "PSKmodulator(4, symbol_mapping = 'Binary', input_type = 'Decimal')"
   ]
  },
  {
   "cell_type": "markdown",
   "metadata": {},
   "source": [
    "## 8-PSK"
   ]
  },
  {
   "cell_type": "code",
   "execution_count": 11,
   "metadata": {},
   "outputs": [
    {
     "data": {
      "text/html": [
       "<img src=\"https://www.mathworks.com/help/comm/ug/psk8_const_diagram_gray.png\"/>"
      ],
      "text/plain": [
       "<IPython.core.display.Image object>"
      ]
     },
     "execution_count": 11,
     "metadata": {},
     "output_type": "execute_result"
    }
   ],
   "source": [
    "Image(url= \"https://www.mathworks.com/help/comm/ug/psk8_const_diagram_gray.png\")"
   ]
  },
  {
   "cell_type": "code",
   "execution_count": 12,
   "metadata": {},
   "outputs": [
    {
     "data": {
      "text/plain": [
       "{'000': (0.8660254037844387+0.49999999999999994j),\n",
       " '001': (0.25881904510252096+0.9659258262890682j),\n",
       " '010': (-0.9659258262890682+0.258819045102521j),\n",
       " '011': (-0.4999999999999998+0.8660254037844387j),\n",
       " '100': (0.9659258262890683-0.2588190451025207j),\n",
       " '101': (0.5000000000000001-0.8660254037844386j),\n",
       " '110': (-0.8660254037844388-0.4999999999999997j),\n",
       " '111': (-0.25881904510252063-0.9659258262890683j)}"
      ]
     },
     "execution_count": 12,
     "metadata": {},
     "output_type": "execute_result"
    }
   ],
   "source": [
    "PSKmodulator(8, np.pi/6)"
   ]
  },
  {
   "cell_type": "markdown",
   "metadata": {},
   "source": [
    "## Exceptions (errors)"
   ]
  },
  {
   "cell_type": "code",
   "execution_count": 13,
   "metadata": {},
   "outputs": [],
   "source": [
    "#PSKmodulator(4, input_type = 'Decimal1')"
   ]
  },
  {
   "cell_type": "code",
   "execution_count": 14,
   "metadata": {},
   "outputs": [],
   "source": [
    "#PSKmodulator(4, symbol_mapping = 'Binary1')"
   ]
  },
  {
   "cell_type": "code",
   "execution_count": 15,
   "metadata": {},
   "outputs": [],
   "source": [
    "#PSKmodulator(4, symbol_mapping = 'Binary1', input_type = 'Decimal')"
   ]
  },
  {
   "cell_type": "markdown",
   "metadata": {},
   "source": [
    "# Demodulator"
   ]
  },
  {
   "cell_type": "code",
   "execution_count": 16,
   "metadata": {},
   "outputs": [],
   "source": [
    "def PSKDemodulator(modulation_order, phase_shift = np.pi/4, symbol_mapping = 'Gray'):\n",
    "\tzeros = []\n",
    "\tones = []\n",
    "\tfor c in range(int(np.log2(modulation_order))):\n",
    "\t\tzeros.append([])\n",
    "\t\tones.append([])\n",
    "\tcodebook = PSKmodulator(modulation_order, phase_shift, symbol_mapping, 'Decimal')\n",
    "\ts = [i for i in range(modulation_order)]\n",
    "\tb = []\n",
    "\tfor i in s:\n",
    "\t\ta = bin(i)[2:]\n",
    "\t\tif len(a) < np.log2(modulation_order):\n",
    "\t\t\ta = int((np.log2(modulation_order) - len(a)))*'0'+a\n",
    "\t\tif np.log2(modulation_order)%2 == 0:\n",
    "\t\t\ta = a[::-1]\n",
    "\t\tb.append(a)\n",
    "\tfor idx, n in enumerate(b):\n",
    "\t\tfor ind, m in enumerate(n):\n",
    "\t\t\tif m == '0':\n",
    "\t\t\t\tzeros[ind].append(codebook[idx])\n",
    "\t\t\telse:\n",
    "\t\t\t\tones[ind].append(codebook[idx])\n",
    "\treturn zeros, ones"
   ]
  },
  {
   "cell_type": "markdown",
   "metadata": {},
   "source": [
    "## QPSK (pi/4  phase rotation)"
   ]
  },
  {
   "cell_type": "code",
   "execution_count": 17,
   "metadata": {},
   "outputs": [],
   "source": [
    "zeros, ones = PSKDemodulator(4)"
   ]
  },
  {
   "cell_type": "code",
   "execution_count": 18,
   "metadata": {},
   "outputs": [
    {
     "name": "stdout",
     "output_type": "stream",
     "text": [
      "Zeros on the first position can be: [(0.7071067811865476+0.7071067811865476j), (0.7071067811865474-0.7071067811865477j)]\n",
      "Ones on the first position can be: [(-0.7071067811865475+0.7071067811865476j), (-0.7071067811865477-0.7071067811865475j)]\n",
      "Zeros on the second position can be: [(0.7071067811865476+0.7071067811865476j), (-0.7071067811865475+0.7071067811865476j)]\n",
      "Ones on the second position can be: [(0.7071067811865474-0.7071067811865477j), (-0.7071067811865477-0.7071067811865475j)]\n"
     ]
    }
   ],
   "source": [
    "print('Zeros on the first position can be: '+str(zeros[0]))\n",
    "print('Ones on the first position can be: '+str(ones[0]))\n",
    "print('Zeros on the second position can be: '+str(zeros[1]))\n",
    "print('Ones on the second position can be: '+str(ones[1]))"
   ]
  },
  {
   "cell_type": "markdown",
   "metadata": {},
   "source": [
    "## 8-PSK"
   ]
  },
  {
   "cell_type": "code",
   "execution_count": 19,
   "metadata": {},
   "outputs": [],
   "source": [
    "zeros, ones = PSKDemodulator(8, np.pi/6)"
   ]
  },
  {
   "cell_type": "code",
   "execution_count": 20,
   "metadata": {},
   "outputs": [
    {
     "name": "stdout",
     "output_type": "stream",
     "text": [
      "Zeros on the first position can be: [(0.8660254037844387+0.49999999999999994j), (0.25881904510252096+0.9659258262890682j), (-0.9659258262890682+0.258819045102521j), (-0.4999999999999998+0.8660254037844387j)]\n",
      "\n",
      "Ones on the first position can be: [(0.9659258262890683-0.2588190451025207j), (0.5000000000000001-0.8660254037844386j), (-0.8660254037844388-0.4999999999999997j), (-0.25881904510252063-0.9659258262890683j)]\n",
      "\n",
      "Zeros on the second position can be: [(0.8660254037844387+0.49999999999999994j), (0.25881904510252096+0.9659258262890682j), (0.9659258262890683-0.2588190451025207j), (0.5000000000000001-0.8660254037844386j)]\n",
      "\n",
      "Ones on the second position can be: [(-0.9659258262890682+0.258819045102521j), (-0.4999999999999998+0.8660254037844387j), (-0.8660254037844388-0.4999999999999997j), (-0.25881904510252063-0.9659258262890683j)]\n",
      "\n",
      "Zeros on the third position can be: [(0.8660254037844387+0.49999999999999994j), (-0.9659258262890682+0.258819045102521j), (0.9659258262890683-0.2588190451025207j), (-0.8660254037844388-0.4999999999999997j)]\n",
      "\n",
      "Ones on the third position can be: [(0.25881904510252096+0.9659258262890682j), (-0.4999999999999998+0.8660254037844387j), (0.5000000000000001-0.8660254037844386j), (-0.25881904510252063-0.9659258262890683j)]\n",
      "\n"
     ]
    }
   ],
   "source": [
    "print('Zeros on the first position can be: '+str(zeros[0]))\n",
    "print('')\n",
    "print('Ones on the first position can be: '+str(ones[0]))\n",
    "print('')\n",
    "print('Zeros on the second position can be: '+str(zeros[1]))\n",
    "print('')\n",
    "print('Ones on the second position can be: '+str(ones[1]))\n",
    "print('')\n",
    "print('Zeros on the third position can be: '+str(zeros[2]))\n",
    "print('')\n",
    "print('Ones on the third position can be: '+str(ones[2]))\n",
    "print('')"
   ]
  }
 ],
 "metadata": {
  "kernelspec": {
   "display_name": "Python 3",
   "language": "python",
   "name": "python3"
  },
  "language_info": {
   "codemirror_mode": {
    "name": "ipython",
    "version": 3
   },
   "file_extension": ".py",
   "mimetype": "text/x-python",
   "name": "python",
   "nbconvert_exporter": "python",
   "pygments_lexer": "ipython3",
   "version": "3.6.4"
  }
 },
 "nbformat": 4,
 "nbformat_minor": 2
}
